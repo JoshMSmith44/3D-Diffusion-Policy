{
 "cells": [
  {
   "cell_type": "code",
   "execution_count": 2,
   "metadata": {},
   "outputs": [],
   "source": [
    "import mujoco as mj\n",
    "import mujoco.viewer\n",
    "from mujoco import minimize\n",
    "import numpy as np\n",
    "import time\n",
    "import matplotlib.pyplot as plt\n"
   ]
  },
  {
   "cell_type": "code",
   "execution_count": 3,
   "metadata": {},
   "outputs": [
    {
     "ename": "ValueError",
     "evalue": "mjParseXML: resource not found via provider or OS filesystem: 'assets/DAPG_claw_door.xml'",
     "output_type": "error",
     "traceback": [
      "\u001b[0;31m---------------------------------------------------------------------------\u001b[0m",
      "\u001b[0;31mValueError\u001b[0m                                Traceback (most recent call last)",
      "Cell \u001b[0;32mIn[3], line 9\u001b[0m\n\u001b[1;32m      6\u001b[0m bounds \u001b[38;5;241m=\u001b[39m (hand_model\u001b[38;5;241m.\u001b[39mjnt_range[:, \u001b[38;5;241m0\u001b[39m], hand_model\u001b[38;5;241m.\u001b[39mjnt_range[:, \u001b[38;5;241m1\u001b[39m])\n\u001b[1;32m      8\u001b[0m \u001b[38;5;66;03m# Load the MuJoCo claw model\u001b[39;00m\n\u001b[0;32m----> 9\u001b[0m claw_model \u001b[38;5;241m=\u001b[39m \u001b[43mmj\u001b[49m\u001b[38;5;241;43m.\u001b[39;49m\u001b[43mMjModel\u001b[49m\u001b[38;5;241;43m.\u001b[39;49m\u001b[43mfrom_xml_path\u001b[49m\u001b[43m(\u001b[49m\u001b[38;5;124;43m\"\u001b[39;49m\u001b[38;5;124;43massets/DAPG_claw_door.xml\u001b[39;49m\u001b[38;5;124;43m\"\u001b[39;49m\u001b[43m)\u001b[49m\n\u001b[1;32m     10\u001b[0m claw_data \u001b[38;5;241m=\u001b[39m mj\u001b[38;5;241m.\u001b[39mMjData(claw_model)\n\u001b[1;32m     11\u001b[0m claw_left \u001b[38;5;241m=\u001b[39m claw_data\u001b[38;5;241m.\u001b[39msite(\u001b[38;5;124m\"\u001b[39m\u001b[38;5;124mgripper_frame_1_ur5right\u001b[39m\u001b[38;5;124m\"\u001b[39m)\n",
      "\u001b[0;31mValueError\u001b[0m: mjParseXML: resource not found via provider or OS filesystem: 'assets/DAPG_claw_door.xml'"
     ]
    }
   ],
   "source": [
    "# Load the MuJoCo hand model\n",
    "hand_model = mj.MjModel.from_xml_path(\"assets/DAPG_door.xml\")\n",
    "hand_data = mj.MjData(hand_model)\n",
    "hand_middle = hand_model.site(\"Tch_mftip\")\n",
    "hand_thumb = hand_model.site(\"Tch_thtip\")\n",
    "bounds = (hand_model.jnt_range[:, 0], hand_model.jnt_range[:, 1])\n",
    "\n",
    "# Load the MuJoCo claw model\n",
    "claw_model = mj.MjModel.from_xml_path(\"assets/DAPG_claw_door.xml\")\n",
    "claw_data = mj.MjData(claw_model)\n",
    "claw_left = claw_data.site(\"gripper_frame_1_ur5right\")\n",
    "claw_right = claw_data.site(\"gripper_frame_2_ur5right\")\n",
    "bounds = (hand_model.jnt_range[:, 0], hand_model.jnt_range[:, 1])"
   ]
  },
  {
   "cell_type": "markdown",
   "metadata": {},
   "source": []
  },
  {
   "cell_type": "markdown",
   "metadata": {},
   "source": []
  },
  {
   "cell_type": "markdown",
   "metadata": {},
   "source": []
  }
 ],
 "metadata": {
  "kernelspec": {
   "display_name": "dp3",
   "language": "python",
   "name": "python3"
  },
  "language_info": {
   "codemirror_mode": {
    "name": "ipython",
    "version": 3
   },
   "file_extension": ".py",
   "mimetype": "text/x-python",
   "name": "python",
   "nbconvert_exporter": "python",
   "pygments_lexer": "ipython3",
   "version": "3.8.19"
  }
 },
 "nbformat": 4,
 "nbformat_minor": 2
}
